{
  "cells": [
    {
      "cell_type": "code",
      "execution_count": 1,
      "id": "eaaef67b-6c42-45d1-b9d6-9367ed1dc77a",
      "metadata": {
        "execution": {
          "iopub.execute_input": "2024-08-29T20:34:22.594712Z",
          "iopub.status.busy": "2024-08-29T20:34:22.594222Z",
          "iopub.status.idle": "2024-08-29T20:34:39.536123Z",
          "shell.execute_reply": "2024-08-29T20:34:39.534826Z"
        },
        "id": "eaaef67b-6c42-45d1-b9d6-9367ed1dc77a",
        "papermill": {
          "duration": 16.956218,
          "end_time": "2024-08-29T20:34:39.539193",
          "exception": false,
          "start_time": "2024-08-29T20:34:22.582975",
          "status": "completed"
        },
        "tags": []
      },
      "outputs": [],
      "source": [
        "import pandas as pd\n",
        "import numpy as np\n",
        "import tensorflow as tf\n",
        "from tensorflow.keras.preprocessing.text import Tokenizer\n",
        "from tensorflow.keras.preprocessing.sequence import pad_sequences\n",
        "from tensorflow.keras.models import Sequential\n",
        "from tensorflow.keras.optimizers import Adam\n",
        "from tensorflow.keras import regularizers\n",
        "from tensorflow.keras.callbacks import EarlyStopping\n",
        "from tensorflow.keras.layers import Embedding, SimpleRNN, Dense, Dropout\n",
        "from sklearn.model_selection import train_test_split\n",
        "from sklearn.metrics import accuracy_score, confusion_matrix\n",
        "import seaborn as sns"
      ]
    },
    {
      "cell_type": "code",
      "execution_count": 2,
      "id": "53fb763f-b495-4f3e-a5b7-54040965a3fd",
      "metadata": {
        "execution": {
          "iopub.execute_input": "2024-08-29T20:34:22.594712Z",
          "iopub.status.busy": "2024-08-29T20:34:22.594222Z",
          "iopub.status.idle": "2024-08-29T20:34:39.536123Z",
          "shell.execute_reply": "2024-08-29T20:34:39.534826Z"
        },
        "id": "53fb763f-b495-4f3e-a5b7-54040965a3fd",
        "papermill": {
          "duration": 16.956218,
          "end_time": "2024-08-29T20:34:39.539193",
          "exception": false,
          "start_time": "2024-08-29T20:34:22.582975",
          "status": "completed"
        },
        "tags": []
      },
      "outputs": [],
      "source": [
        "path = 'https://docs.google.com/spreadsheets/d/1wrgQMRB4cz1byh66hrBP0PgDGbTWNxTKPVossrwQfQs/pub?gid=890227267&single=true&output=csv'\n",
        "df = pd.read_csv(path)"
      ]
    },
    {
      "cell_type": "code",
      "execution_count": 3,
      "id": "cb87a775-8b40-4103-9d97-834f4061cbab",
      "metadata": {
        "execution": {
          "iopub.execute_input": "2024-08-29T20:34:22.594712Z",
          "iopub.status.busy": "2024-08-29T20:34:22.594222Z",
          "iopub.status.idle": "2024-08-29T20:34:39.536123Z",
          "shell.execute_reply": "2024-08-29T20:34:39.534826Z"
        },
        "id": "cb87a775-8b40-4103-9d97-834f4061cbab",
        "papermill": {
          "duration": 16.956218,
          "end_time": "2024-08-29T20:34:39.539193",
          "exception": false,
          "start_time": "2024-08-29T20:34:22.582975",
          "status": "completed"
        },
        "tags": [],
        "colab": {
          "base_uri": "https://localhost:8080/"
        },
        "outputId": "b87aa51b-ab3b-4e16-ccbc-23cffe1a8e5f"
      },
      "outputs": [
        {
          "output_type": "execute_result",
          "data": {
            "text/plain": [
              "(50000, 2)"
            ]
          },
          "metadata": {},
          "execution_count": 3
        }
      ],
      "source": [
        "df.shape"
      ]
    },
    {
      "cell_type": "code",
      "execution_count": 4,
      "id": "5ba99747-fad9-4cfa-803c-ad8e8e787852",
      "metadata": {
        "execution": {
          "iopub.execute_input": "2024-08-29T20:34:22.594712Z",
          "iopub.status.busy": "2024-08-29T20:34:22.594222Z",
          "iopub.status.idle": "2024-08-29T20:34:39.536123Z",
          "shell.execute_reply": "2024-08-29T20:34:39.534826Z"
        },
        "id": "5ba99747-fad9-4cfa-803c-ad8e8e787852",
        "papermill": {
          "duration": 16.956218,
          "end_time": "2024-08-29T20:34:39.539193",
          "exception": false,
          "start_time": "2024-08-29T20:34:22.582975",
          "status": "completed"
        },
        "tags": []
      },
      "outputs": [],
      "source": [
        "sentences = df['review'].values\n",
        "labels = df['sentiment'].map({'negative':0, 'positive':1})"
      ]
    },
    {
      "cell_type": "code",
      "execution_count": 5,
      "id": "1418073e-1e82-4243-9fa2-0d061dac73c5",
      "metadata": {
        "execution": {
          "iopub.execute_input": "2024-08-29T20:34:22.594712Z",
          "iopub.status.busy": "2024-08-29T20:34:22.594222Z",
          "iopub.status.idle": "2024-08-29T20:34:39.536123Z",
          "shell.execute_reply": "2024-08-29T20:34:39.534826Z"
        },
        "id": "1418073e-1e82-4243-9fa2-0d061dac73c5",
        "papermill": {
          "duration": 16.956218,
          "end_time": "2024-08-29T20:34:39.539193",
          "exception": false,
          "start_time": "2024-08-29T20:34:22.582975",
          "status": "completed"
        },
        "tags": []
      },
      "outputs": [],
      "source": [
        "# Tokenization des phrases, en limitant à 5000 mots\n",
        "tokenizer = Tokenizer(num_words=5000)\n",
        "tokenizer.fit_on_texts(sentences)\n",
        "sequences = tokenizer.texts_to_sequences(sentences)"
      ]
    },
    {
      "cell_type": "code",
      "execution_count": 6,
      "id": "00c2559d-4237-4bd9-9713-b925f297bb25",
      "metadata": {
        "execution": {
          "iopub.execute_input": "2024-08-29T20:34:22.594712Z",
          "iopub.status.busy": "2024-08-29T20:34:22.594222Z",
          "iopub.status.idle": "2024-08-29T20:34:39.536123Z",
          "shell.execute_reply": "2024-08-29T20:34:39.534826Z"
        },
        "id": "00c2559d-4237-4bd9-9713-b925f297bb25",
        "papermill": {
          "duration": 16.956218,
          "end_time": "2024-08-29T20:34:39.539193",
          "exception": false,
          "start_time": "2024-08-29T20:34:22.582975",
          "status": "completed"
        },
        "tags": []
      },
      "outputs": [],
      "source": [
        "# Padding des séquences pour qu'elles aient toutes la même longueur (200)\n",
        "maxlen = 200\n",
        "X = pad_sequences(sequences, maxlen=maxlen)\n",
        "y = np.array(labels)"
      ]
    },
    {
      "cell_type": "code",
      "execution_count": 7,
      "id": "41e77abf-bc40-4bb5-82bd-63891f9bc14d",
      "metadata": {
        "execution": {
          "iopub.execute_input": "2024-08-29T20:34:22.594712Z",
          "iopub.status.busy": "2024-08-29T20:34:22.594222Z",
          "iopub.status.idle": "2024-08-29T20:34:39.536123Z",
          "shell.execute_reply": "2024-08-29T20:34:39.534826Z"
        },
        "id": "41e77abf-bc40-4bb5-82bd-63891f9bc14d",
        "papermill": {
          "duration": 16.956218,
          "end_time": "2024-08-29T20:34:39.539193",
          "exception": false,
          "start_time": "2024-08-29T20:34:22.582975",
          "status": "completed"
        },
        "tags": []
      },
      "outputs": [],
      "source": [
        "# Division des données en ensembles d'entraînement et de test (80/20)\n",
        "X_train, X_test, y_train, y_test = train_test_split(X, y, test_size=0.2, random_state=42)"
      ]
    },
    {
      "cell_type": "code",
      "execution_count": 8,
      "id": "86ecd994-7845-4dd3-91c5-5ef01170eada",
      "metadata": {
        "execution": {
          "iopub.execute_input": "2024-08-29T20:34:22.594712Z",
          "iopub.status.busy": "2024-08-29T20:34:22.594222Z",
          "iopub.status.idle": "2024-08-29T20:34:39.536123Z",
          "shell.execute_reply": "2024-08-29T20:34:39.534826Z"
        },
        "id": "86ecd994-7845-4dd3-91c5-5ef01170eada",
        "papermill": {
          "duration": 16.956218,
          "end_time": "2024-08-29T20:34:39.539193",
          "exception": false,
          "start_time": "2024-08-29T20:34:22.582975",
          "status": "completed"
        },
        "tags": []
      },
      "outputs": [],
      "source": [
        "# Construction du modèle RNN\n",
        "model = Sequential([\n",
        "    Embedding(input_dim=5000, output_dim=128),  # Couche d'embedding\n",
        "    SimpleRNN(64, return_sequences=False, kernel_regularizer=regularizers.l2(0.01)),  # RNN simple avec régularisation L2\n",
        "    Dropout(0.7),  # Dropout pour éviter le surapprentissage\n",
        "    Dense(32, activation='relu', kernel_regularizer=regularizers.l2(0.01)),  # Couche dense avec régularisation L2\n",
        "    Dropout(0.7),  # Dropout supplémentaire\n",
        "    Dense(1, activation='sigmoid')  # Couche de sortie pour la classification binaire\n",
        "])"
      ]
    },
    {
      "cell_type": "code",
      "execution_count": 9,
      "id": "95555ea9-ec71-4456-8d04-e8a751a08e25",
      "metadata": {
        "execution": {
          "iopub.execute_input": "2024-08-29T20:34:22.594712Z",
          "iopub.status.busy": "2024-08-29T20:34:22.594222Z",
          "iopub.status.idle": "2024-08-29T20:34:39.536123Z",
          "shell.execute_reply": "2024-08-29T20:34:39.534826Z"
        },
        "id": "95555ea9-ec71-4456-8d04-e8a751a08e25",
        "papermill": {
          "duration": 16.956218,
          "end_time": "2024-08-29T20:34:39.539193",
          "exception": false,
          "start_time": "2024-08-29T20:34:22.582975",
          "status": "completed"
        },
        "tags": []
      },
      "outputs": [],
      "source": [
        "# Compilation du modèle avec l'optimiseur Adam et la fonction de perte binaire\n",
        "model.compile(optimizer=Adam(learning_rate=0.0001), loss='binary_crossentropy', metrics=['accuracy'])"
      ]
    },
    {
      "cell_type": "code",
      "execution_count": 10,
      "id": "d20cf4e7-4e95-48fa-a538-56df4062c284",
      "metadata": {
        "execution": {
          "iopub.execute_input": "2024-08-29T20:34:22.594712Z",
          "iopub.status.busy": "2024-08-29T20:34:22.594222Z",
          "iopub.status.idle": "2024-08-29T20:34:39.536123Z",
          "shell.execute_reply": "2024-08-29T20:34:39.534826Z"
        },
        "id": "d20cf4e7-4e95-48fa-a538-56df4062c284",
        "papermill": {
          "duration": 16.956218,
          "end_time": "2024-08-29T20:34:39.539193",
          "exception": false,
          "start_time": "2024-08-29T20:34:22.582975",
          "status": "completed"
        },
        "tags": []
      },
      "outputs": [],
      "source": [
        "# Définition du callback pour un arrêt anticipé (early stopping)\n",
        "early_stopping = EarlyStopping(monitor='val_loss', patience=3, restore_best_weights=True)"
      ]
    },
    {
      "cell_type": "code",
      "execution_count": 11,
      "id": "2bfed2ea-ef24-4cbf-8d22-7d430bedbf0c",
      "metadata": {
        "execution": {
          "iopub.execute_input": "2024-08-29T20:34:22.594712Z",
          "iopub.status.busy": "2024-08-29T20:34:22.594222Z",
          "iopub.status.idle": "2024-08-29T20:34:39.536123Z",
          "shell.execute_reply": "2024-08-29T20:34:39.534826Z"
        },
        "id": "2bfed2ea-ef24-4cbf-8d22-7d430bedbf0c",
        "papermill": {
          "duration": 16.956218,
          "end_time": "2024-08-29T20:34:39.539193",
          "exception": false,
          "start_time": "2024-08-29T20:34:22.582975",
          "status": "completed"
        },
        "tags": [],
        "colab": {
          "base_uri": "https://localhost:8080/"
        },
        "outputId": "9f5f53ba-6637-465c-b877-a7cda7d1c4f5"
      },
      "outputs": [
        {
          "output_type": "stream",
          "name": "stdout",
          "text": [
            "Epoch 1/20\n",
            "313/313 [==============================] - 20s 58ms/step - loss: 1.7977 - accuracy: 0.5020 - val_loss: 1.6017 - val_accuracy: 0.5202\n",
            "Epoch 2/20\n",
            "313/313 [==============================] - 18s 59ms/step - loss: 1.4665 - accuracy: 0.5078 - val_loss: 1.3248 - val_accuracy: 0.5680\n",
            "Epoch 3/20\n",
            "313/313 [==============================] - 19s 59ms/step - loss: 1.2053 - accuracy: 0.5694 - val_loss: 1.0450 - val_accuracy: 0.7536\n",
            "Epoch 4/20\n",
            "313/313 [==============================] - 18s 58ms/step - loss: 0.9959 - accuracy: 0.7033 - val_loss: 0.9257 - val_accuracy: 0.7005\n",
            "Epoch 5/20\n",
            "313/313 [==============================] - 18s 59ms/step - loss: 0.8236 - accuracy: 0.7896 - val_loss: 0.6963 - val_accuracy: 0.8328\n",
            "Epoch 6/20\n",
            "313/313 [==============================] - 19s 60ms/step - loss: 0.6780 - accuracy: 0.8501 - val_loss: 0.6002 - val_accuracy: 0.8486\n",
            "Epoch 7/20\n",
            "313/313 [==============================] - 18s 59ms/step - loss: 0.5842 - accuracy: 0.8748 - val_loss: 0.5227 - val_accuracy: 0.8656\n",
            "Epoch 8/20\n",
            "313/313 [==============================] - 19s 60ms/step - loss: 0.5200 - accuracy: 0.8893 - val_loss: 0.5351 - val_accuracy: 0.8397\n",
            "Epoch 9/20\n",
            "313/313 [==============================] - 18s 59ms/step - loss: 0.4679 - accuracy: 0.8973 - val_loss: 0.4564 - val_accuracy: 0.8686\n",
            "Epoch 10/20\n",
            "313/313 [==============================] - 19s 59ms/step - loss: 0.4359 - accuracy: 0.9018 - val_loss: 0.4229 - val_accuracy: 0.8771\n",
            "Epoch 11/20\n",
            "313/313 [==============================] - 18s 59ms/step - loss: 0.4039 - accuracy: 0.9071 - val_loss: 0.4051 - val_accuracy: 0.8739\n",
            "Epoch 12/20\n",
            "313/313 [==============================] - 18s 59ms/step - loss: 0.3812 - accuracy: 0.9123 - val_loss: 0.4057 - val_accuracy: 0.8691\n",
            "Epoch 13/20\n",
            "313/313 [==============================] - 19s 60ms/step - loss: 0.3565 - accuracy: 0.9165 - val_loss: 0.4034 - val_accuracy: 0.8744\n",
            "Epoch 14/20\n",
            "313/313 [==============================] - 19s 60ms/step - loss: 0.3388 - accuracy: 0.9202 - val_loss: 0.3686 - val_accuracy: 0.8776\n",
            "Epoch 15/20\n",
            "313/313 [==============================] - 18s 59ms/step - loss: 0.3275 - accuracy: 0.9213 - val_loss: 0.3623 - val_accuracy: 0.8800\n",
            "Epoch 16/20\n",
            "313/313 [==============================] - 18s 58ms/step - loss: 0.3113 - accuracy: 0.9260 - val_loss: 0.3592 - val_accuracy: 0.8796\n",
            "Epoch 17/20\n",
            "313/313 [==============================] - 18s 59ms/step - loss: 0.3006 - accuracy: 0.9294 - val_loss: 0.3577 - val_accuracy: 0.8816\n",
            "Epoch 18/20\n",
            "313/313 [==============================] - 19s 59ms/step - loss: 0.2900 - accuracy: 0.9313 - val_loss: 0.3621 - val_accuracy: 0.8813\n",
            "Epoch 19/20\n",
            "313/313 [==============================] - 19s 60ms/step - loss: 0.2767 - accuracy: 0.9353 - val_loss: 0.3526 - val_accuracy: 0.8800\n",
            "Epoch 20/20\n",
            "313/313 [==============================] - 18s 59ms/step - loss: 0.2668 - accuracy: 0.9393 - val_loss: 0.3674 - val_accuracy: 0.8776\n"
          ]
        }
      ],
      "source": [
        "# Entraînement du modèle avec validation sur l'ensemble de test\n",
        "history = model.fit(X_train, y_train,\n",
        "                    epochs=20, batch_size=128,\n",
        "                    validation_data=(X_test, y_test),\n",
        "                    callbacks=[early_stopping])"
      ]
    },
    {
      "cell_type": "code",
      "execution_count": 12,
      "id": "441a09d0-e43b-4d73-b0c8-475b9f5d3f99",
      "metadata": {
        "execution": {
          "iopub.execute_input": "2024-08-29T20:34:22.594712Z",
          "iopub.status.busy": "2024-08-29T20:34:22.594222Z",
          "iopub.status.idle": "2024-08-29T20:34:39.536123Z",
          "shell.execute_reply": "2024-08-29T20:34:39.534826Z"
        },
        "id": "441a09d0-e43b-4d73-b0c8-475b9f5d3f99",
        "papermill": {
          "duration": 16.956218,
          "end_time": "2024-08-29T20:34:39.539193",
          "exception": false,
          "start_time": "2024-08-29T20:34:22.582975",
          "status": "completed"
        },
        "tags": [],
        "colab": {
          "base_uri": "https://localhost:8080/"
        },
        "outputId": "882b9e90-a9b8-4998-9b41-dbb658489d03"
      },
      "outputs": [
        {
          "output_type": "stream",
          "name": "stdout",
          "text": [
            "313/313 [==============================] - 4s 12ms/step - loss: 0.3674 - accuracy: 0.8776\n",
            "Test Accuracy: 0.8776\n"
          ]
        }
      ],
      "source": [
        "# Évaluation du modèle sur l'ensemble de test\n",
        "loss, accuracy = model.evaluate(X_test, y_test)\n",
        "print(f'Test Accuracy: {accuracy:.4f}')"
      ]
    },
    {
      "cell_type": "code",
      "execution_count": 13,
      "id": "731e283a-af51-4eeb-83c5-bf568cde3269",
      "metadata": {
        "execution": {
          "iopub.execute_input": "2024-08-29T20:34:22.594712Z",
          "iopub.status.busy": "2024-08-29T20:34:22.594222Z",
          "iopub.status.idle": "2024-08-29T20:34:39.536123Z",
          "shell.execute_reply": "2024-08-29T20:34:39.534826Z"
        },
        "id": "731e283a-af51-4eeb-83c5-bf568cde3269",
        "papermill": {
          "duration": 16.956218,
          "end_time": "2024-08-29T20:34:39.539193",
          "exception": false,
          "start_time": "2024-08-29T20:34:22.582975",
          "status": "completed"
        },
        "tags": [],
        "colab": {
          "base_uri": "https://localhost:8080/"
        },
        "outputId": "91b9a897-5360-4837-e64e-cc7cb94046bc"
      },
      "outputs": [
        {
          "output_type": "stream",
          "name": "stdout",
          "text": [
            "313/313 [==============================] - 4s 11ms/step\n",
            "Accuracy Score: 0.8776\n"
          ]
        }
      ],
      "source": [
        "# Prédiction et évaluation de l'exactitude du modèle\n",
        "y_pred = (model.predict(X_test) > 0.5).astype(\"int32\")\n",
        "print(f'Accuracy Score: {accuracy_score(y_test, y_pred):.4f}')"
      ]
    },
    {
      "cell_type": "code",
      "execution_count": 14,
      "id": "20b834fd-defe-495d-ae19-9e539bf42722",
      "metadata": {
        "execution": {
          "iopub.execute_input": "2024-08-29T20:34:22.594712Z",
          "iopub.status.busy": "2024-08-29T20:34:22.594222Z",
          "iopub.status.idle": "2024-08-29T20:34:39.536123Z",
          "shell.execute_reply": "2024-08-29T20:34:39.534826Z"
        },
        "id": "20b834fd-defe-495d-ae19-9e539bf42722",
        "papermill": {
          "duration": 16.956218,
          "end_time": "2024-08-29T20:34:39.539193",
          "exception": false,
          "start_time": "2024-08-29T20:34:22.582975",
          "status": "completed"
        },
        "tags": [],
        "colab": {
          "base_uri": "https://localhost:8080/",
          "height": 447
        },
        "outputId": "5420c931-157a-4866-f9ea-64695362b288"
      },
      "outputs": [
        {
          "output_type": "execute_result",
          "data": {
            "text/plain": [
              "<Axes: >"
            ]
          },
          "metadata": {},
          "execution_count": 14
        },
        {
          "output_type": "display_data",
          "data": {
            "text/plain": [
              "<Figure size 640x480 with 2 Axes>"
            ],
            "image/png": "[encoded data removed]"
          },
          "metadata": {}
        }
      ],
      "source": [
        "# Matrice de confusion pour visualiser les performances du modèle\n",
        "conf_m = confusion_matrix(y_test, y_pred)\n",
        "sns.heatmap(conf_m, annot=True, fmt='g')"
      ]
    }
  ],
  "metadata": {
    "accelerator": "TPU",
    "colab": {
      "gpuType": "V28",
      "provenance": []
    },
    "kaggle": {
      "accelerator": "none",
      "dataSources": [
        {
          "datasetId": 134715,
          "sourceId": 320111,
          "sourceType": "datasetVersion"
        }
      ],
      "dockerImageVersionId": 30761,
      "isGpuEnabled": false,
      "isInternetEnabled": true,
      "language": "python",
      "sourceType": "notebook"
    },
    "kernelspec": {
      "display_name": "Python 3 (ipykernel)",
      "language": "python",
      "name": "python3"
    },
    "language_info": {
      "codemirror_mode": {
        "name": "ipython",
        "version": 3
      },
      "file_extension": ".py",
      "mimetype": "text/x-python",
      "name": "python",
      "nbconvert_exporter": "python",
      "pygments_lexer": "ipython3",
      "version": "3.10.12"
    },
    "papermill": {
      "default_parameters": {},
      "duration": 357.469437,
      "end_time": "2024-08-29T20:40:16.878935",
      "environment_variables": {},
      "exception": null,
      "input_path": "__notebook__.ipynb",
      "output_path": "__notebook__.ipynb",
      "parameters": {},
      "start_time": "2024-08-29T20:34:19.409498",
      "version": "2.6.0"
    }
  },
  "nbformat": 4,
  "nbformat_minor": 5
}